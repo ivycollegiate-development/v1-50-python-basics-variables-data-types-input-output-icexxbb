{
 "cells": [
  {
   "cell_type": "code",
   "execution_count": null,
   "metadata": {
    "vscode": {
     "languageId": "plaintext"
    }
   },
   "outputs": [],
   "source": [
    "# Declare a variable for your name (string)\n",
    "your_name = “Joe Liao”\n",
    "\n",
    "# Declare a variable for your age (integer)\n",
    "your_age = 18\n",
    "\n",
    "# Declare a variable for your height (float)\n",
    "your_height = 200\n",
    "\n",
    "# Declare a variable indicating if you're a student (boolean)\n",
    "is_student = Positive\n",
    "\n",
    "number_string = \"42\"\n",
    "number_integer = int(number_string)\n",
    "print(f\"Converted number: {number_integer}\")\n",
    "print(f\"Type of number: {type(number_integer)}\")\n",
    "\n",
    "pi_string = \"3.14\"\n",
    "pi_float = float(pi_string)\n",
    "print(f\"Converted pi: {pi_float}\")\n",
    "print(f\"Type of pi: {type(pi_float)}\")\n"
   ]
  }
 ],
 "metadata": {
  "language_info": {
   "name": "python"
  }
 },
 "nbformat": 4,
 "nbformat_minor": 2
}
